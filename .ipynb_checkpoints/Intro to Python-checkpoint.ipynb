{
 "cells": [
  {
   "cell_type": "markdown",
   "id": "62e3789f",
   "metadata": {},
   "source": [
    "### We will first learn to print Hello World"
   ]
  },
  {
   "cell_type": "code",
   "execution_count": 3,
   "id": "2de7eb33",
   "metadata": {},
   "outputs": [
    {
     "name": "stdout",
     "output_type": "stream",
     "text": [
      "Hello World\n"
     ]
    }
   ],
   "source": [
    "print(\"Hello World\")"
   ]
  },
  {
   "cell_type": "markdown",
   "id": "c948169f",
   "metadata": {},
   "source": [
    "### Taking input"
   ]
  },
  {
   "cell_type": "code",
   "execution_count": 8,
   "id": "eeff6c1f",
   "metadata": {},
   "outputs": [
    {
     "name": "stdout",
     "output_type": "stream",
     "text": [
      "Please enter your name: daksh\n"
     ]
    },
    {
     "data": {
      "text/plain": [
       "'daksh'"
      ]
     },
     "execution_count": 8,
     "metadata": {},
     "output_type": "execute_result"
    }
   ],
   "source": [
    "input(\"Please enter your name: \")\n"
   ]
  },
  {
   "cell_type": "markdown",
   "id": "f519ecfc",
   "metadata": {},
   "source": [
    "**We can see here that its not perfect because we are not getting the output as we expected it to be. We are just getting oyr input as the output so to fix this we will use the concept of `return value` and we will learn variables now**"
   ]
  },
  {
   "cell_type": "code",
   "execution_count": 11,
   "id": "7b3c654d",
   "metadata": {},
   "outputs": [
    {
     "name": "stdout",
     "output_type": "stream",
     "text": [
      "Please enter your name: daks\\\n",
      "Hello, \n"
     ]
    }
   ],
   "source": [
    "name= input(\"Please enter your name: \") #Here we took the input as a variable \n",
    "print(\"Hello, \" )"
   ]
  },
  {
   "cell_type": "code",
   "execution_count": null,
   "id": "27fc07fa",
   "metadata": {},
   "outputs": [],
   "source": []
  }
 ],
 "metadata": {
  "kernelspec": {
   "display_name": "Python 3 (ipykernel)",
   "language": "python",
   "name": "python3"
  },
  "language_info": {
   "codemirror_mode": {
    "name": "ipython",
    "version": 3
   },
   "file_extension": ".py",
   "mimetype": "text/x-python",
   "name": "python",
   "nbconvert_exporter": "python",
   "pygments_lexer": "ipython3",
   "version": "3.9.13"
  }
 },
 "nbformat": 4,
 "nbformat_minor": 5
}
