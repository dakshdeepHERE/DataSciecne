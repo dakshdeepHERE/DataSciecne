{
 "cells": [
  {
   "cell_type": "markdown",
   "id": "ce7e518c",
   "metadata": {},
   "source": [
    "### We will first learn to print Hello World"
   ]
  },
  {
   "cell_type": "code",
   "execution_count": 3,
   "id": "d1e23fb8",
   "metadata": {},
   "outputs": [
    {
     "name": "stdout",
     "output_type": "stream",
     "text": [
      "Hello World\n"
     ]
    }
   ],
   "source": [
    "print(\"Hello World\")"
   ]
  },
  {
   "cell_type": "markdown",
   "id": "33661805",
   "metadata": {},
   "source": [
    "### Taking input"
   ]
  },
  {
   "cell_type": "code",
   "execution_count": 8,
   "id": "8f7cd55c",
   "metadata": {},
   "outputs": [
    {
     "name": "stdout",
     "output_type": "stream",
     "text": [
      "Please enter your name: daksh\n"
     ]
    },
    {
     "data": {
      "text/plain": [
       "'daksh'"
      ]
     },
     "execution_count": 8,
     "metadata": {},
     "output_type": "execute_result"
    }
   ],
   "source": [
    "input(\"Please enter your name: \")\n"
   ]
  },
  {
   "cell_type": "markdown",
   "id": "bbb817bb",
   "metadata": {},
   "source": [
    "**We can see here that its not perfect because we are not getting the output as we expected it to be. We are just getting oyr input as the output so to fix this we will use the concept of `return value` and we will learn variables now**"
   ]
  },
  {
   "cell_type": "code",
   "execution_count": 12,
   "id": "cf258aaf",
   "metadata": {},
   "outputs": [
    {
     "name": "stdout",
     "output_type": "stream",
     "text": [
      "Please enter your name: daksh\n",
      "Hello, \n",
      "daksh\n"
     ]
    }
   ],
   "source": [
    "name= input(\"Please enter your name: \") #Here we took the input as a variable \n",
    "print(\"Hello, \" )\n",
    "print(name)"
   ]
  },
  {
   "cell_type": "markdown",
   "id": "dd98bc67",
   "metadata": {},
   "source": [
    "### Here we can print our own name that we will type but its not perfect as we can see the name is getting printed below `Hello`"
   ]
  },
  {
   "cell_type": "code",
   "execution_count": null,
   "id": "ed6efad1",
   "metadata": {},
   "outputs": [],
   "source": []
  }
 ],
 "metadata": {
  "kernelspec": {
   "display_name": "Python 3 (ipykernel)",
   "language": "python",
   "name": "python3"
  },
  "language_info": {
   "codemirror_mode": {
    "name": "ipython",
    "version": 3
   },
   "file_extension": ".py",
   "mimetype": "text/x-python",
   "name": "python",
   "nbconvert_exporter": "python",
   "pygments_lexer": "ipython3",
   "version": "3.9.13"
  }
 },
 "nbformat": 4,
 "nbformat_minor": 5
}
