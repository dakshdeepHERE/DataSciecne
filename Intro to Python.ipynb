{
 "cells": [
  {
   "cell_type": "markdown",
   "id": "bdb98732",
   "metadata": {},
   "source": [
    "### We will first learn to print Hello World"
   ]
  },
  {
   "cell_type": "code",
   "execution_count": 1,
   "id": "8903d0e9",
   "metadata": {},
   "outputs": [
    {
     "name": "stdout",
     "output_type": "stream",
     "text": [
      "Hello World\n"
     ]
    }
   ],
   "source": [
    "print(\"Hello World\")"
   ]
  },
  {
   "cell_type": "markdown",
   "id": "a4794b4e",
   "metadata": {},
   "source": [
    "### Taking input"
   ]
  },
  {
   "cell_type": "code",
   "execution_count": 2,
   "id": "a4df7fbf",
   "metadata": {},
   "outputs": [
    {
     "name": "stdout",
     "output_type": "stream",
     "text": [
      "Please enter your name: \n"
     ]
    },
    {
     "data": {
      "text/plain": [
       "''"
      ]
     },
     "execution_count": 2,
     "metadata": {},
     "output_type": "execute_result"
    }
   ],
   "source": [
    "input(\"Please enter your name: \")\n"
   ]
  },
  {
   "cell_type": "markdown",
   "id": "1c52a672",
   "metadata": {},
   "source": [
    "**We can see here that its not perfect because we are not getting the output as we expected it to be. We are just getting oyr input as the output so to fix this we will use the concept of `return value` and we will learn variables now**"
   ]
  },
  {
   "cell_type": "code",
   "execution_count": null,
   "id": "d2f5adbf",
   "metadata": {},
   "outputs": [],
   "source": []
  },
  {
   "cell_type": "code",
   "execution_count": 3,
   "id": "ccb80b37",
   "metadata": {},
   "outputs": [
    {
     "name": "stdout",
     "output_type": "stream",
     "text": [
      "Please enter your name: daksha\n",
      "Hello, \n",
      "daksha\n"
     ]
    }
   ],
   "source": [
    "name= input(\"Please enter your name: \") #Here we took the input as a variable \n",
    "print(\"Hello, \")\n",
    "print(name)"
   ]
  },
  {
   "cell_type": "markdown",
   "id": "d872b94b",
   "metadata": {},
   "source": [
    "### Here we can print our own name that we will type but its not perfect as we can see the name is getting printed below `Hello`"
   ]
  },
  {
   "cell_type": "code",
   "execution_count": 1,
   "id": "a6397c0d",
   "metadata": {},
   "outputs": [
    {
     "name": "stdout",
     "output_type": "stream",
     "text": [
      "Please enter your name: daksh\n",
      "Hello, daksh\n"
     ]
    }
   ],
   "source": [
    "# To solve the above issue we can just add the variable in the above string.\n",
    "name= input(\"Please enter your name: \") \n",
    "print(\"Hello, \" + name) # We can also use `,` instead of `+` "
   ]
  },
  {
   "cell_type": "code",
   "execution_count": 2,
   "id": "686ae367",
   "metadata": {},
   "outputs": [
    {
     "name": "stdout",
     "output_type": "stream",
     "text": [
      "hello, Daksh\n"
     ]
    }
   ],
   "source": [
    "#remove the white spaces from str\n",
    "name = name.strip()\n",
    "# capitalize will capitalize the user input \n",
    "name = name.capitalize()\n",
    "print(f\"hello, {name}\")"
   ]
  },
  {
   "cell_type": "markdown",
   "id": "e91e034e",
   "metadata": {},
   "source": [
    "- ***Putting f at the beginning of the str then python take it as special string***\n",
    "- ***When you will run the above 2 codes you will notice the functiions working like its stated in the comments*** \n",
    "- ***We can also add all the functions using the dot `.` so the code can look shorter***"
   ]
  },
  {
   "cell_type": "code",
   "execution_count": 14,
   "id": "862a5667",
   "metadata": {},
   "outputs": [
    {
     "name": "stdout",
     "output_type": "stream",
     "text": [
      "Enter your name:       daksh\n",
      "Hello, Daksh\n"
     ]
    }
   ],
   "source": [
    "name1 = input(\"Enter your name: \").strip().title()\n",
    "print(\"Hello, \" + name)"
   ]
  },
  {
   "cell_type": "code",
   "execution_count": 10,
   "id": "cf36559b",
   "metadata": {},
   "outputs": [
    {
     "data": {
      "text/plain": [
       "list"
      ]
     },
     "execution_count": 10,
     "metadata": {},
     "output_type": "execute_result"
    }
   ],
   "source": [
    "type(name1)"
   ]
  },
  {
   "cell_type": "code",
   "execution_count": null,
   "id": "0746dfc0",
   "metadata": {},
   "outputs": [],
   "source": []
  }
 ],
 "metadata": {
  "kernelspec": {
   "display_name": "Python 3 (ipykernel)",
   "language": "python",
   "name": "python3"
  },
  "language_info": {
   "codemirror_mode": {
    "name": "ipython",
    "version": 3
   },
   "file_extension": ".py",
   "mimetype": "text/x-python",
   "name": "python",
   "nbconvert_exporter": "python",
   "pygments_lexer": "ipython3",
   "version": "3.9.13"
  }
 },
 "nbformat": 4,
 "nbformat_minor": 5
}
